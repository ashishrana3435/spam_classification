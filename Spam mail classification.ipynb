{
 "cells": [
  {
   "cell_type": "code",
   "execution_count": 44,
   "metadata": {},
   "outputs": [],
   "source": [
    "import io # For reading files\n",
    "import pandas as pd\n",
    "from sklearn.metrics import accuracy_score\n",
    "from sklearn.naive_bayes import GaussianNB\n",
    "from sklearn.feature_extraction.text import CountVectorizer\n",
    "from sklearn.feature_extraction.text import TfidfVectorizer\n",
    "from sklearn.model_selection import train_test_split\n",
    "import os"
   ]
  },
  {
   "cell_type": "code",
   "execution_count": 45,
   "metadata": {},
   "outputs": [],
   "source": [
    "path = 'emails/' "
   ]
  },
  {
   "cell_type": "code",
   "execution_count": 46,
   "metadata": {},
   "outputs": [],
   "source": [
    "dataFiles = []\n",
    "for root, folder, files in os.walk(path):\n",
    "    for file in files:\n",
    "        dataFiles.append(root+'/'+file)"
   ]
  },
  {
   "cell_type": "code",
   "execution_count": 47,
   "metadata": {},
   "outputs": [
    {
     "name": "stdout",
     "output_type": "stream",
     "text": [
      "From timc@2ubh.com  Thu Aug 22 13:52:59 2002\n",
      "Return-Path: <timc@2ubh.com>\n",
      "Delivered-To: zzzz@localhost.netnoteinc.com\n",
      "Received: from localhost (localhost [127.0.0.1])\n",
      "\tby phobos.labs.netnoteinc.com (Postfix) with ESMTP id 0314547C66\n",
      "\tfor <zzzz@localhost>; Thu, 22 Aug 2002 08:52:58 -0400 (EDT)\n",
      "Received: from phobos [127.0.0.1]\n",
      "\tby localhost with IMAP (fetchmail-5.9.0)\n",
      "\tfor zzzz@localhost (single-drop); Thu, 22 Aug 2002 13:52:59 +0100 (IST)\n",
      "Received: from n16.grp.scd.yahoo.com (n16.grp.scd.yahoo.com\n",
      "    [66.218.66.71]) by dogma.slashnull.org (8.11.6/8.11.6) with SMTP id\n",
      "    g7MCrdZ07070 for <zzzz@spamassassin.taint.org>; Thu, 22 Aug 2002 13:53:39 +0100\n",
      "X-Egroups-Return: sentto-2242572-52733-1030020820-zzzz=spamassassin.taint.org@returns.groups.yahoo.com\n",
      "Received: from [66.218.67.198] by n16.grp.scd.yahoo.com with NNFMP;\n",
      "    22 Aug 2002 12:53:40 -0000\n",
      "X-Sender: timc@2ubh.com\n",
      "X-Apparently-To: zzzzteana@yahoogroups.com\n",
      "Received: (EGP: mail-8_1_0_1); 22 Aug 2002 12:53:39 -0000\n",
      "Received: (qmail 76099 invoked from network); 22 Aug 2002 12:53:39 -0000\n",
      "Received: from unknown (66.218.66.218) by m5.grp.scd.yahoo.com with QMQP;\n",
      "    22 Aug 2002 12:53:39 -0000\n",
      "Received: from unknown (HELO rhenium.btinternet.com) (194.73.73.93) by\n",
      "    mta3.grp.scd.yahoo.com with SMTP; 22 Aug 2002 12:53:39 -0000\n",
      "Received: from host217-36-23-185.in-addr.btopenworld.com ([217.36.23.185])\n",
      "    by rhenium.btinternet.com with esmtp (Exim 3.22 #8) id 17hrT0-0004gj-00\n",
      "    for forteana@yahoogroups.com; Thu, 22 Aug 2002 13:53:38 +0100\n",
      "X-Mailer: Microsoft Outlook Express Macintosh Edition - 4.5 (0410)\n",
      "To: zzzzteana <zzzzteana@yahoogroups.com>\n",
      "X-Priority: 3\n",
      "Message-Id: <E17hrT0-0004gj-00@rhenium.btinternet.com>\n",
      "From: \"Tim Chapman\" <timc@2ubh.com>\n",
      "X-Yahoo-Profile: tim2ubh\n",
      "MIME-Version: 1.0\n",
      "Mailing-List: list zzzzteana@yahoogroups.com; contact\n",
      "    forteana-owner@yahoogroups.com\n",
      "Delivered-To: mailing list zzzzteana@yahoogroups.com\n",
      "Precedence: bulk\n",
      "List-Unsubscribe: <mailto:zzzzteana-unsubscribe@yahoogroups.com>\n",
      "Date: Thu, 22 Aug 2002 13:52:38 +0100\n",
      "Subject: [zzzzteana] Moscow bomber\n",
      "Reply-To: zzzzteana@yahoogroups.com\n",
      "Content-Type: text/plain; charset=US-ASCII\n",
      "Content-Transfer-Encoding: 7bit\n",
      "\n",
      "Man Threatens Explosion In Moscow \n",
      "\n",
      "Thursday August 22, 2002 1:40 PM\n",
      "MOSCOW (AP) - Security officers on Thursday seized an unidentified man who\n",
      "said he was armed with explosives and threatened to blow up his truck in\n",
      "front of Russia's Federal Security Services headquarters in Moscow, NTV\n",
      "television reported.\n",
      "The officers seized an automatic rifle the man was carrying, then the man\n",
      "got out of the truck and was taken into custody, NTV said. No other details\n",
      "were immediately available.\n",
      "The man had demanded talks with high government officials, the Interfax and\n",
      "ITAR-Tass news agencies said. Ekho Moskvy radio reported that he wanted to\n",
      "talk with Russian President Vladimir Putin.\n",
      "Police and security forces rushed to the Security Service building, within\n",
      "blocks of the Kremlin, Red Square and the Bolshoi Ballet, and surrounded the\n",
      "man, who claimed to have one and a half tons of explosives, the news\n",
      "agencies said. Negotiations continued for about one and a half hours outside\n",
      "the building, ITAR-Tass and Interfax reported, citing witnesses.\n",
      "The man later drove away from the building, under police escort, and drove\n",
      "to a street near Moscow's Olympic Penta Hotel, where authorities held\n",
      "further negotiations with him, the Moscow police press service said. The\n",
      "move appeared to be an attempt by security services to get him to a more\n",
      "secure location. \n",
      "\n",
      "------------------------ Yahoo! Groups Sponsor ---------------------~-->\n",
      "4 DVDs Free +s&p Join Now\n",
      "http://us.click.yahoo.com/pt6YBB/NXiEAA/mG3HAA/7gSolB/TM\n",
      "---------------------------------------------------------------------~->\n",
      "\n",
      "To unsubscribe from this group, send an email to:\n",
      "forteana-unsubscribe@egroups.com\n",
      "\n",
      " \n",
      "\n",
      "Your use of Yahoo! Groups is subject to http://docs.yahoo.com/info/terms/ \n",
      "\n",
      "\n",
      "\n",
      "\n"
     ]
    }
   ],
   "source": [
    "file = open(dataFiles[2])\n",
    "data = file.read()\n",
    "print(data)\n",
    "file.close()"
   ]
  },
  {
   "cell_type": "code",
   "execution_count": 48,
   "metadata": {},
   "outputs": [],
   "source": [
    "# Yield does not end the function rather allows to make it iterable whereas return ends the flow of function\n",
    "def read_file(path):\n",
    "    for root, folder, files in os.walk(path):\n",
    "        for file in files:\n",
    "            filename = root+\"/\"+file\n",
    "            file = io.open(filename,encoding=\"latin1\")\n",
    "            body =False\n",
    "            data = []\n",
    "            lines = file.readlines()\n",
    "            for line in lines:\n",
    "                if line == \"\\n\":\n",
    "                    body = True\n",
    "                if body:\n",
    "                    data.append(line)\n",
    "            file.close()\n",
    "            msg = \"\\n\".join(data)\n",
    "            yield msg, file\n",
    "                "
   ]
  },
  {
   "cell_type": "code",
   "execution_count": 49,
   "metadata": {},
   "outputs": [],
   "source": [
    "def df(path, classification):\n",
    "    rows =[]\n",
    "    index= []\n",
    "    for message ,filename in read_file(path):\n",
    "        rows.append({\"message\":message,\"class\":classification})\n",
    "        index.append(filename)\n",
    "    return pd.DataFrame(data = rows , index = index)\n",
    "dataset = pd.DataFrame({\"message\": [], \"class\":[]})\n",
    "dataset = dataset.append(df(\"emails/ham\",\"ham\"))\n",
    "dataset = dataset.append(df(\"emails/spam\",\"spam\"))\n"
   ]
  },
  {
   "cell_type": "code",
   "execution_count": 50,
   "metadata": {},
   "outputs": [
    {
     "data": {
      "text/html": [
       "<div>\n",
       "<style scoped>\n",
       "    .dataframe tbody tr th:only-of-type {\n",
       "        vertical-align: middle;\n",
       "    }\n",
       "\n",
       "    .dataframe tbody tr th {\n",
       "        vertical-align: top;\n",
       "    }\n",
       "\n",
       "    .dataframe thead th {\n",
       "        text-align: right;\n",
       "    }\n",
       "</style>\n",
       "<table border=\"1\" class=\"dataframe\">\n",
       "  <thead>\n",
       "    <tr style=\"text-align: right;\">\n",
       "      <th></th>\n",
       "      <th>class</th>\n",
       "      <th>message</th>\n",
       "    </tr>\n",
       "  </thead>\n",
       "  <tbody>\n",
       "    <tr>\n",
       "      <th>&lt;_io.TextIOWrapper name='emails/ham/00001.7c53336b37003a9286aba55d2945844c' mode='r' encoding='latin1'&gt;</th>\n",
       "      <td>ham</td>\n",
       "      <td>\\n\\n    Date:        Wed, 21 Aug 2002 10:54:46...</td>\n",
       "    </tr>\n",
       "    <tr>\n",
       "      <th>&lt;_io.TextIOWrapper name='emails/ham/00002.9c4069e25e1ef370c078db7ee85ff9ac' mode='r' encoding='latin1'&gt;</th>\n",
       "      <td>ham</td>\n",
       "      <td>\\n\\nMartin A posted:\\n\\nTassos Papadopoulos, t...</td>\n",
       "    </tr>\n",
       "    <tr>\n",
       "      <th>&lt;_io.TextIOWrapper name='emails/ham/00003.860e3c3cee1b42ead714c5c874fe25f7' mode='r' encoding='latin1'&gt;</th>\n",
       "      <td>ham</td>\n",
       "      <td>\\n\\nMan Threatens Explosion In Moscow \\n\\n\\n\\n...</td>\n",
       "    </tr>\n",
       "    <tr>\n",
       "      <th>&lt;_io.TextIOWrapper name='emails/ham/00004.864220c5b6930b209cc287c361c99af1' mode='r' encoding='latin1'&gt;</th>\n",
       "      <td>ham</td>\n",
       "      <td>\\n\\nKlez: The Virus That Won't Die\\n\\n \\n\\nAlr...</td>\n",
       "    </tr>\n",
       "    <tr>\n",
       "      <th>&lt;_io.TextIOWrapper name='emails/ham/00005.bf27cdeaf0b8c4647ecd61b1d09da613' mode='r' encoding='latin1'&gt;</th>\n",
       "      <td>ham</td>\n",
       "      <td>\\n\\n&gt;  in adding cream to spaghetti carbonara,...</td>\n",
       "    </tr>\n",
       "  </tbody>\n",
       "</table>\n",
       "</div>"
      ],
      "text/plain": [
       "                                                   class  \\\n",
       "<_io.TextIOWrapper name='emails/ham/00001.7c533...   ham   \n",
       "<_io.TextIOWrapper name='emails/ham/00002.9c406...   ham   \n",
       "<_io.TextIOWrapper name='emails/ham/00003.860e3...   ham   \n",
       "<_io.TextIOWrapper name='emails/ham/00004.86422...   ham   \n",
       "<_io.TextIOWrapper name='emails/ham/00005.bf27c...   ham   \n",
       "\n",
       "                                                                                              message  \n",
       "<_io.TextIOWrapper name='emails/ham/00001.7c533...  \\n\\n    Date:        Wed, 21 Aug 2002 10:54:46...  \n",
       "<_io.TextIOWrapper name='emails/ham/00002.9c406...  \\n\\nMartin A posted:\\n\\nTassos Papadopoulos, t...  \n",
       "<_io.TextIOWrapper name='emails/ham/00003.860e3...  \\n\\nMan Threatens Explosion In Moscow \\n\\n\\n\\n...  \n",
       "<_io.TextIOWrapper name='emails/ham/00004.86422...  \\n\\nKlez: The Virus That Won't Die\\n\\n \\n\\nAlr...  \n",
       "<_io.TextIOWrapper name='emails/ham/00005.bf27c...  \\n\\n>  in adding cream to spaghetti carbonara,...  "
      ]
     },
     "execution_count": 50,
     "metadata": {},
     "output_type": "execute_result"
    }
   ],
   "source": [
    "dataset.head()"
   ]
  },
  {
   "cell_type": "code",
   "execution_count": 90,
   "metadata": {},
   "outputs": [],
   "source": [
    "import pandas as pd\n",
    "import numpy as np\n",
    "from nltk.tokenize import word_tokenize,sent_tokenize\n",
    "from nltk.corpus import stopwords\n",
    "from nltk.stem import PorterStemmer,WordNetLemmatizer\n",
    "from sklearn.feature_extraction.text import CountVectorizer\n",
    "from sklearn.feature_extraction.text import TfidfVectorizer\n",
    "from sklearn.linear_model import LogisticRegression\n",
    "from sklearn.metrics import accuracy_score, confusion_matrix\n",
    "from sklearn.model_selection import train_test_split\n",
    "from sklearn.preprocessing import LabelEncoder"
   ]
  },
  {
   "cell_type": "code",
   "execution_count": 91,
   "metadata": {},
   "outputs": [],
   "source": [
    "msg=dataset['message'][0]"
   ]
  },
  {
   "cell_type": "code",
   "execution_count": 92,
   "metadata": {},
   "outputs": [],
   "source": [
    "import re"
   ]
  },
  {
   "cell_type": "code",
   "execution_count": 93,
   "metadata": {},
   "outputs": [],
   "source": [
    "tokens = []\n",
    "for i in range(len(dataset)):\n",
    "    msg = re.findall('[\\w]+',dataset['message'][i])\n",
    "    tokens.append(msg)"
   ]
  },
  {
   "cell_type": "code",
   "execution_count": 94,
   "metadata": {},
   "outputs": [],
   "source": [
    "def textProcessing(df):\n",
    "    tokens=[]\n",
    "    for i in range(len(df)):\n",
    "        msg = re.findall('[\\w]+',df['message'][i])\n",
    "        tokens.append(msg)\n",
    "    stopwordsList = stopwords.words(\"english\")\n",
    "    \n",
    "    wordsList = []\n",
    "    for tokenList in tokens:\n",
    "        words = []\n",
    "        for word in tokenList:\n",
    "            if word.lower() not in stopwordsList:\n",
    "                words.append(word.lower())\n",
    "        wordsList.append(words)\n",
    "                \n",
    "    wnet = WordNetLemmatizer()\n",
    "    for i in range(len(wordsList)):\n",
    "        for j in range(len(wordsList[i])):\n",
    "            wordsList[i][j] = wnet.lemmatize(wordsList[i][j], pos =\"v\")\n",
    "            \n",
    "    for i in range(len(wordsList)):\n",
    "        wordsList[i] = \" \".join(wordsList[i])\n",
    "        \n",
    "    return wordsList\n",
    "    \n",
    "          "
   ]
  },
  {
   "cell_type": "code",
   "execution_count": 95,
   "metadata": {},
   "outputs": [],
   "source": [
    "wordsList = textProcessing(dataset)"
   ]
  },
  {
   "cell_type": "code",
   "execution_count": 96,
   "metadata": {},
   "outputs": [
    {
     "data": {
      "text/plain": [
       "'martin post tassos papadopoulos greek sculptor behind plan judge limestone mount kerdylio 70 miles east salonika far mount athos monastic community ideal patriotic sculpture well alexander granite feature 240 ft high 170 ft wide museum restore amphitheatre car park admire crowd plan mountain limestone granite limestone weather pretty fast yahoo group sponsor 4 dvds free p join http us click yahoo com pt6ybb nxieaa mg3haa 7gsolb tm unsubscribe group send email forteana unsubscribe egroups com use yahoo group subject http docs yahoo com info term'"
      ]
     },
     "execution_count": 96,
     "metadata": {},
     "output_type": "execute_result"
    }
   ],
   "source": [
    "wordsList[1]"
   ]
  },
  {
   "cell_type": "code",
   "execution_count": 97,
   "metadata": {},
   "outputs": [],
   "source": [
    "cv = CountVectorizer()"
   ]
  },
  {
   "cell_type": "code",
   "execution_count": 98,
   "metadata": {},
   "outputs": [],
   "source": [
    "vect = cv.fit_transform(wordsList)"
   ]
  },
  {
   "cell_type": "code",
   "execution_count": 99,
   "metadata": {},
   "outputs": [],
   "source": [
    "vect =vect.toarray()"
   ]
  },
  {
   "cell_type": "code",
   "execution_count": 100,
   "metadata": {},
   "outputs": [],
   "source": [
    "y = dataset[\"class\"]"
   ]
  },
  {
   "cell_type": "code",
   "execution_count": 101,
   "metadata": {},
   "outputs": [],
   "source": [
    "encoder = LabelEncoder()"
   ]
  },
  {
   "cell_type": "code",
   "execution_count": 102,
   "metadata": {},
   "outputs": [],
   "source": [
    "y = encoder.fit_transform(y)"
   ]
  },
  {
   "cell_type": "code",
   "execution_count": 103,
   "metadata": {},
   "outputs": [
    {
     "data": {
      "text/plain": [
       "array([0, 0, 0, ..., 1, 1, 1])"
      ]
     },
     "execution_count": 103,
     "metadata": {},
     "output_type": "execute_result"
    }
   ],
   "source": [
    "y"
   ]
  },
  {
   "cell_type": "code",
   "execution_count": 104,
   "metadata": {},
   "outputs": [],
   "source": [
    "x_train, x_test, y_train, y_test = train_test_split(vect, y, test_size=0.25)"
   ]
  },
  {
   "cell_type": "code",
   "execution_count": 105,
   "metadata": {},
   "outputs": [
    {
     "data": {
      "text/plain": [
       "(2250, 58388)"
      ]
     },
     "execution_count": 105,
     "metadata": {},
     "output_type": "execute_result"
    }
   ],
   "source": [
    "x_train.shape"
   ]
  },
  {
   "cell_type": "code",
   "execution_count": 106,
   "metadata": {},
   "outputs": [
    {
     "data": {
      "text/plain": [
       "(750, 58388)"
      ]
     },
     "execution_count": 106,
     "metadata": {},
     "output_type": "execute_result"
    }
   ],
   "source": [
    "x_test.shape"
   ]
  },
  {
   "cell_type": "code",
   "execution_count": 107,
   "metadata": {},
   "outputs": [
    {
     "data": {
      "text/plain": [
       "(2250,)"
      ]
     },
     "execution_count": 107,
     "metadata": {},
     "output_type": "execute_result"
    }
   ],
   "source": [
    "y_train.shape"
   ]
  },
  {
   "cell_type": "code",
   "execution_count": 108,
   "metadata": {},
   "outputs": [
    {
     "data": {
      "text/plain": [
       "(750,)"
      ]
     },
     "execution_count": 108,
     "metadata": {},
     "output_type": "execute_result"
    }
   ],
   "source": [
    "y_test.shape"
   ]
  },
  {
   "cell_type": "code",
   "execution_count": 109,
   "metadata": {},
   "outputs": [
    {
     "name": "stderr",
     "output_type": "stream",
     "text": [
      "C:\\Users\\ASHISH RANA\\Anaconda3\\lib\\site-packages\\sklearn\\linear_model\\logistic.py:433: FutureWarning: Default solver will be changed to 'lbfgs' in 0.22. Specify a solver to silence this warning.\n",
      "  FutureWarning)\n"
     ]
    },
    {
     "data": {
      "text/plain": [
       "LogisticRegression(C=1.0, class_weight=None, dual=False, fit_intercept=True,\n",
       "          intercept_scaling=1, max_iter=100, multi_class='warn',\n",
       "          n_jobs=None, penalty='l2', random_state=None, solver='warn',\n",
       "          tol=0.0001, verbose=0, warm_start=False)"
      ]
     },
     "execution_count": 109,
     "metadata": {},
     "output_type": "execute_result"
    }
   ],
   "source": [
    "reg = LogisticRegression()\n",
    "reg.fit(x_train, y_train)"
   ]
  },
  {
   "cell_type": "code",
   "execution_count": 110,
   "metadata": {},
   "outputs": [],
   "source": [
    "y_pred = reg.predict(x_test)"
   ]
  },
  {
   "cell_type": "code",
   "execution_count": 111,
   "metadata": {},
   "outputs": [
    {
     "data": {
      "text/plain": [
       "0.9826666666666667"
      ]
     },
     "execution_count": 111,
     "metadata": {},
     "output_type": "execute_result"
    }
   ],
   "source": [
    "accuracy_score(y_test, y_pred)"
   ]
  },
  {
   "cell_type": "code",
   "execution_count": 112,
   "metadata": {},
   "outputs": [],
   "source": [
    "nb = GaussianNB()"
   ]
  },
  {
   "cell_type": "code",
   "execution_count": 113,
   "metadata": {},
   "outputs": [
    {
     "data": {
      "text/plain": [
       "GaussianNB(priors=None, var_smoothing=1e-09)"
      ]
     },
     "execution_count": 113,
     "metadata": {},
     "output_type": "execute_result"
    }
   ],
   "source": [
    "nb.fit(x_train, y_train)"
   ]
  },
  {
   "cell_type": "code",
   "execution_count": 114,
   "metadata": {},
   "outputs": [],
   "source": [
    "y_pred_2 = nb.predict(x_test)"
   ]
  },
  {
   "cell_type": "code",
   "execution_count": 115,
   "metadata": {},
   "outputs": [
    {
     "data": {
      "text/plain": [
       "0.9733333333333334"
      ]
     },
     "execution_count": 115,
     "metadata": {},
     "output_type": "execute_result"
    }
   ],
   "source": [
    "accuracy_score(y_test, y_pred_2)"
   ]
  },
  {
   "cell_type": "code",
   "execution_count": null,
   "metadata": {},
   "outputs": [],
   "source": []
  }
 ],
 "metadata": {
  "kernelspec": {
   "display_name": "Python 3",
   "language": "python",
   "name": "python3"
  },
  "language_info": {
   "codemirror_mode": {
    "name": "ipython",
    "version": 3
   },
   "file_extension": ".py",
   "mimetype": "text/x-python",
   "name": "python",
   "nbconvert_exporter": "python",
   "pygments_lexer": "ipython3",
   "version": "3.7.1"
  }
 },
 "nbformat": 4,
 "nbformat_minor": 2
}
